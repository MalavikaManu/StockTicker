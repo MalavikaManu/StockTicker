{
 "cells": [
  {
   "cell_type": "markdown",
   "metadata": {},
   "source": [
    "# AlphaVantage"
   ]
  },
  {
   "cell_type": "raw",
   "metadata": {},
   "source": [
    "The Alpha Vantage API is a method to obtain historical and realtime data for several markets and most used finance indicators in a simple json or pandas format. \n",
    "\n",
    "__alpha_vantage__ Python module to get stock data/cryptocurrencies from the Alpha Vantage API.\n",
    "\n",
    "They provide a generous rate limit of 5 requests per minute and 500 requests per day.\n",
    "\n",
    "Alpha Vantage offers historical and realtime data for stocks, forex, and cryptocurrencies. Several time frames are available ranging from 1-minute bars up to monthly.\n",
    "\n",
    "Alpha Vantage is free. \n",
    "Data is extensive.Data dating back 20 years for stocks and forex."
   ]
  },
  {
   "cell_type": "markdown",
   "metadata": {},
   "source": [
    "Install AlphaVantage Module in python \n",
    "\n",
    "__pip install alpha_vantage__"
   ]
  },
  {
   "cell_type": "markdown",
   "metadata": {},
   "source": [
    "### Time Series Stock Data APIs"
   ]
  },
  {
   "cell_type": "markdown",
   "metadata": {},
   "source": [
    "#### TIME_SERIES_INTRADAY"
   ]
  },
  {
   "cell_type": "markdown",
   "metadata": {},
   "source": [
    "This API returns intraday time series of the equity specified, covering extended trading hours where applicable (e.g., 4:00am to 8:00pm Eastern Time for the US market). The intraday data is derived from the Securities Information Processor (SIP) market-aggregated data.This API returns the most recent 1-2 months of intraday data and is best suited for short-term/medium-term charting and trading strategy development."
   ]
  },
  {
   "cell_type": "markdown",
   "metadata": {},
   "source": [
    "API Parameters\n",
    "\n",
    "❚ Required: function\n",
    "\n",
    "The time series of your choice. In this case, function=TIME_SERIES_INTRADAY\n",
    "\n",
    "❚ Required: symbol\n",
    "\n",
    "The name of the equity of your choice. For example: symbol=IBM\n",
    "\n",
    "❚ Required: interval\n",
    "\n",
    "Time interval between two consecutive data points in the time series. The following values are supported: 1min, 5min, 15min, 30min, 60min\n",
    "\n",
    "❚ Optional: adjusted\n",
    "\n",
    "By default, adjusted=true and the output time series is adjusted by historical split and dividend events. Set adjusted=false to query raw (as-traded) intraday values.\n",
    "\n",
    "❚ Optional: outputsize\n",
    "\n",
    "By default, outputsize=compact. Strings compact and full are accepted with the following specifications: compact returns only the latest 100 data points in the intraday time series; full returns the full-length intraday time series. The \"compact\" option is recommended if you would like to reduce the data size of each API call.\n",
    "\n",
    "❚ Optional: datatype\n",
    "\n",
    "By default, datatype=json. Strings json and csv are accepted with the following specifications: json returns the intraday time series in JSON format; csv returns the time series as a CSV (comma separated value) file.\n",
    "\n",
    "❚ Required: apikey"
   ]
  },
  {
   "cell_type": "code",
   "execution_count": null,
   "metadata": {},
   "outputs": [],
   "source": [
    "API KEY = TQDRA851QNSBS3AJ"
   ]
  },
  {
   "cell_type": "code",
   "execution_count": 4,
   "metadata": {},
   "outputs": [
    {
     "name": "stdout",
     "output_type": "stream",
     "text": [
      "(                      1. open   2. high    3. low  4. close  5. volume\n",
      "date                                                                  \n",
      "2022-08-04 14:25:00  158.0900  158.1100  158.0200  158.1100     4863.0\n",
      "2022-08-04 14:30:00  158.1100  158.1700  158.0100  158.0300     6010.0\n",
      "2022-08-04 14:35:00  158.0500  158.1200  158.0000  158.1000     5935.0\n",
      "2022-08-04 14:40:00  158.0550  158.0650  157.8600  158.0300     6674.0\n",
      "2022-08-04 14:45:00  157.9800  157.9900  157.7900  157.8650     6271.0\n",
      "2022-08-04 14:50:00  157.8900  157.8900  157.7700  157.8600     5739.0\n",
      "2022-08-04 14:55:00  157.8700  157.9400  157.8200  157.8600     5789.0\n",
      "2022-08-04 15:00:00  157.8300  157.8750  157.7400  157.8500     5481.0\n",
      "2022-08-04 15:05:00  157.8300  157.8700  157.7250  157.8700     5225.0\n",
      "2022-08-04 15:10:00  157.9000  157.9850  157.8700  157.9100     9352.0\n",
      "2022-08-04 15:15:00  157.9300  158.1600  157.9300  158.0900    12079.0\n",
      "2022-08-04 15:20:00  158.1200  158.2200  158.1200  158.1900     9648.0\n",
      "2022-08-04 15:25:00  158.2000  158.3100  158.1600  158.2500    10142.0\n",
      "2022-08-04 15:30:00  158.2000  158.2000  158.0650  158.0900     7272.0\n",
      "2022-08-04 15:35:00  158.0867  158.0867  157.7900  157.9000    12302.0\n",
      "2022-08-04 15:40:00  157.9400  158.0400  157.8900  157.9100    14282.0\n",
      "2022-08-04 15:45:00  157.9100  157.9100  157.6800  157.8200    17967.0\n",
      "2022-08-04 15:50:00  157.8100  157.8200  157.6400  157.7800    25763.0\n",
      "2022-08-04 15:55:00  157.8300  158.0100  157.8000  157.9700    35349.0\n",
      "2022-08-04 16:00:00  157.9700  157.9700  157.6300  157.7100    62966.0\n",
      "2022-08-04 16:05:00  157.7000  157.7000  157.7000  157.7000    21525.0\n",
      "2022-08-05 09:35:00  158.2700  158.7200  157.9700  158.3500    21204.0\n",
      "2022-08-05 09:40:00  158.2900  158.8800  158.2900  158.6950    18277.0\n",
      "2022-08-05 09:45:00  158.8650  159.1000  158.8300  158.9200     6893.0\n",
      "2022-08-05 09:50:00  158.7500  158.8200  158.4500  158.5600     4571.0\n",
      "2022-08-05 09:55:00  158.6200  159.1900  158.5600  159.1800     6622.0\n",
      "2022-08-05 10:00:00  159.2000  159.4400  159.0100  159.0550    10291.0\n",
      "2022-08-05 10:05:00  159.1000  159.1900  158.7800  158.7800     7723.0\n",
      "2022-08-05 10:10:00  158.8500  159.2700  158.8500  159.1900     9230.0\n",
      "2022-08-05 10:15:00  159.2400  159.3200  159.0900  159.1400    19117.0\n",
      "...                       ...       ...       ...       ...        ...\n",
      "2022-08-05 13:40:00  158.9950  159.0400  158.9500  159.0300     5422.0\n",
      "2022-08-05 13:45:00  159.0700  159.1890  159.0700  159.1700     4951.0\n",
      "2022-08-05 13:50:00  159.1300  159.2300  159.0700  159.1900    11564.0\n",
      "2022-08-05 13:55:00  159.1300  159.1900  158.9850  159.1900    11002.0\n",
      "2022-08-05 14:00:00  159.2400  159.2400  159.0650  159.0900     4128.0\n",
      "2022-08-05 14:05:00  159.0300  159.1100  158.9600  159.0900     5817.0\n",
      "2022-08-05 14:10:00  159.0600  159.0600  158.9100  158.9600     5304.0\n",
      "2022-08-05 14:15:00  159.0400  159.0900  158.9600  159.0600     5350.0\n",
      "2022-08-05 14:20:00  159.0300  159.0400  158.9500  159.0100     3082.0\n",
      "2022-08-05 14:25:00  159.0500  159.1050  159.0400  159.1050     8165.0\n",
      "2022-08-05 14:30:00  159.1100  159.1100  158.8350  158.8800     6803.0\n",
      "2022-08-05 14:35:00  158.8100  158.9750  158.7950  158.8900     4621.0\n",
      "2022-08-05 14:40:00  158.9486  158.9750  158.8550  158.8900     4564.0\n",
      "2022-08-05 14:45:00  158.9200  158.9200  158.8000  158.8900     4538.0\n",
      "2022-08-05 14:50:00  158.9200  158.9800  158.9000  158.9677     3585.0\n",
      "2022-08-05 14:55:00  158.9400  159.0700  158.9300  159.0700     5207.0\n",
      "2022-08-05 15:00:00  159.0700  159.0700  158.7900  158.9200     7654.0\n",
      "2022-08-05 15:05:00  158.9000  158.9800  158.8700  158.9000     8083.0\n",
      "2022-08-05 15:10:00  158.9300  158.9300  158.7100  158.7900     6729.0\n",
      "2022-08-05 15:15:00  158.8200  158.9300  158.7800  158.8500     8005.0\n",
      "2022-08-05 15:20:00  158.9000  159.1400  158.8000  159.0600    26158.0\n",
      "2022-08-05 15:25:00  159.0600  159.0800  158.9700  159.0450    10209.0\n",
      "2022-08-05 15:30:00  159.0550  159.1150  158.9600  159.0300    14194.0\n",
      "2022-08-05 15:35:00  158.9800  159.0050  158.8300  158.8400    14303.0\n",
      "2022-08-05 15:40:00  158.8400  158.9900  158.8200  158.8600    14034.0\n",
      "2022-08-05 15:45:00  158.8100  158.9400  158.7750  158.8300    17899.0\n",
      "2022-08-05 15:50:00  158.8100  159.0000  158.8075  159.0000    23943.0\n",
      "2022-08-05 15:55:00  159.0500  159.0700  158.8800  158.9900    27789.0\n",
      "2022-08-05 16:00:00  158.9600  159.0900  158.8100  158.9400    70219.0\n",
      "2022-08-05 16:05:00  158.9600  158.9600  158.9600  158.9600    17236.0\n",
      "\n",
      "[100 rows x 5 columns], {'1. Information': 'Intraday (5min) open, high, low, close prices and volume', '2. Symbol': 'TRV', '3. Last Refreshed': '2022-08-05 16:05:00', '4. Interval': '5min', '5. Output Size': 'Compact', '6. Time Zone': 'US/Eastern'})\n"
     ]
    }
   ],
   "source": [
    "import requests\n",
    "from alpha_vantage.timeseries import TimeSeries\n",
    "\n",
    "app = TimeSeries('TQDRA851QNSBS3AJ',output_format='pandas')  # instantiate the TimeSeries class to inherit all of its functions\n",
    "\n",
    "#Data for Travelers\n",
    "trv_data = app.get_intraday('TRV',interval = '5min')\n",
    "print(trv_data) #prints  100 data points fro Travelers"
   ]
  },
  {
   "cell_type": "code",
   "execution_count": 3,
   "metadata": {},
   "outputs": [
    {
     "name": "stdout",
     "output_type": "stream",
     "text": [
      "(                      1. open   2. high    3. low  4. close  5. volume\n",
      "date                                                                  \n",
      "2022-08-04 10:00:00  282.2200  283.4100  281.3400  282.7800  1183340.0\n",
      "2022-08-04 10:15:00  282.7450  283.3600  282.0500  282.3300   728821.0\n",
      "2022-08-04 10:30:00  282.3177  282.6301  280.9500  281.1200   667135.0\n",
      "2022-08-04 10:45:00  281.1500  281.2600  280.1677  280.9500   910252.0\n",
      "2022-08-04 11:00:00  280.9200  281.9400  280.7800  281.7300   700709.0\n",
      "2022-08-04 11:15:00  281.7300  282.1233  280.5400  280.5800   470934.0\n",
      "2022-08-04 11:30:00  280.5400  281.5700  280.5400  281.1532   446805.0\n",
      "2022-08-04 11:45:00  281.1600  281.9000  281.0500  281.7800   391257.0\n",
      "2022-08-04 12:00:00  281.7650  282.9400  281.7650  282.7700   477954.0\n",
      "2022-08-04 12:15:00  282.7800  283.3100  282.4400  282.9700   510916.0\n",
      "2022-08-04 12:30:00  282.9100  283.7500  282.6350  283.3400   472195.0\n",
      "2022-08-04 12:45:00  283.3400  283.3500  282.3400  282.5600   464847.0\n",
      "2022-08-04 13:00:00  282.5600  282.6000  281.3500  281.3600   497825.0\n",
      "2022-08-04 13:15:00  281.3600  282.5600  281.3500  282.4800   297503.0\n",
      "2022-08-04 13:30:00  282.4650  282.9500  282.3000  282.7650   303839.0\n",
      "2022-08-04 13:45:00  282.7800  283.0400  282.3900  282.4000   303177.0\n",
      "2022-08-04 14:00:00  282.4000  282.8500  282.2400  282.6400   242684.0\n",
      "2022-08-04 14:15:00  282.6400  282.8500  282.1000  282.3700   344887.0\n",
      "2022-08-04 14:30:00  282.3550  282.7700  282.2100  282.6800   297619.0\n",
      "2022-08-04 14:45:00  282.7200  282.9000  282.1200  282.5300   437749.0\n",
      "2022-08-04 15:00:00  282.5500  283.2900  282.4800  283.0700   474612.0\n",
      "2022-08-04 15:15:00  283.0700  283.7000  282.8800  283.4700   475817.0\n",
      "2022-08-04 15:30:00  283.4900  283.6700  283.1000  283.2500   438243.0\n",
      "2022-08-04 15:45:00  283.2200  283.2800  282.7100  282.7400   564660.0\n",
      "2022-08-04 16:00:00  282.7200  283.8000  282.6650  283.6500  1387470.0\n",
      "2022-08-04 16:15:00  283.6500  283.8300  283.5800  283.8000  1019445.0\n",
      "2022-08-04 16:30:00  283.6500  283.7500  283.6500  283.6700     9970.0\n",
      "2022-08-04 16:45:00  283.6500  283.7000  283.6500  283.6500    12451.0\n",
      "2022-08-04 17:00:00  283.5900  283.6500  283.3454  283.6500    38076.0\n",
      "2022-08-04 17:15:00  283.5200  283.6400  283.5100  283.6400     2320.0\n",
      "...                       ...       ...       ...       ...        ...\n",
      "2022-08-05 12:30:00  280.7600  281.0300  280.4709  280.8501   319153.0\n",
      "2022-08-05 12:45:00  280.8900  281.0275  280.2200  280.9701   290612.0\n",
      "2022-08-05 13:00:00  280.9600  281.6200  280.9199  281.4800   275479.0\n",
      "2022-08-05 13:15:00  281.4700  282.2800  281.3300  282.2500   355042.0\n",
      "2022-08-05 13:30:00  282.2500  282.4000  281.8000  281.8300   313108.0\n",
      "2022-08-05 13:45:00  281.8400  282.7000  281.8400  282.4575   262410.0\n",
      "2022-08-05 14:00:00  282.4300  282.6739  281.6500  282.0400   270933.0\n",
      "2022-08-05 14:15:00  282.0400  282.2900  281.7500  281.8850   234188.0\n",
      "2022-08-05 14:30:00  281.8999  282.4100  281.5300  281.5500   235423.0\n",
      "2022-08-05 14:45:00  281.5500  281.8900  281.3800  281.6825   270156.0\n",
      "2022-08-05 15:00:00  281.6700  281.8600  281.2829  281.7501   294294.0\n",
      "2022-08-05 15:15:00  281.7500  282.0300  281.5750  281.8500   425140.0\n",
      "2022-08-05 15:30:00  281.8600  281.9950  281.4200  281.6700   398367.0\n",
      "2022-08-05 15:45:00  281.6799  282.2500  281.6400  282.2500   437537.0\n",
      "2022-08-05 16:00:00  282.2400  283.2000  282.2200  282.8600  1316453.0\n",
      "2022-08-05 16:15:00  282.9100  283.1400  282.5500  282.6000   606201.0\n",
      "2022-08-05 16:30:00  282.5130  282.9100  282.5130  282.8000   125267.0\n",
      "2022-08-05 16:45:00  282.8000  282.8400  282.8000  282.8000     9335.0\n",
      "2022-08-05 17:00:00  282.8400  282.9100  282.7500  282.7500     3847.0\n",
      "2022-08-05 17:15:00  282.7100  282.8000  282.7100  282.8000      440.0\n",
      "2022-08-05 17:45:00  282.7300  282.7500  282.7300  282.7500      625.0\n",
      "2022-08-05 18:00:00  282.7496  282.7500  282.7200  282.7200     1180.0\n",
      "2022-08-05 18:15:00  282.7400  282.7400  282.7200  282.7200      257.0\n",
      "2022-08-05 18:30:00  282.7200  282.7500  282.7200  282.7500      679.0\n",
      "2022-08-05 18:45:00  282.7600  282.7600  282.7600  282.7600      115.0\n",
      "2022-08-05 19:00:00  282.7200  282.8000  282.7200  282.8000      540.0\n",
      "2022-08-05 19:15:00  282.8000  282.8000  282.8000  282.8000      250.0\n",
      "2022-08-05 19:30:00  282.7300  282.7300  282.7100  282.7100     2381.0\n",
      "2022-08-05 19:45:00  282.7100  282.7100  282.7100  282.7100      148.0\n",
      "2022-08-05 20:00:00  282.7000  282.7000  282.7000  282.7000      106.0\n",
      "\n",
      "[100 rows x 5 columns], {'1. Information': 'Intraday (15min) open, high, low, close prices and volume', '2. Symbol': 'MSFT', '3. Last Refreshed': '2022-08-05 20:00:00', '4. Interval': '15min', '5. Output Size': 'Compact', '6. Time Zone': 'US/Eastern'})\n"
     ]
    }
   ],
   "source": [
    "import requests\n",
    "from alpha_vantage.timeseries import TimeSeries\n",
    "\n",
    "app = TimeSeries('TQDRA851QNSBS3AJ',output_format='pandas')  # instantiate the TimeSeries class to inherit all of its functions\n",
    "\n",
    "#intraday dat for MICROSOFT\n",
    "\n",
    "msft_data = app.get_intraday('MSFT')\n",
    "print(msft_data)"
   ]
  },
  {
   "cell_type": "markdown",
   "metadata": {},
   "source": [
    "### Daily\n",
    "\n",
    "This API returns raw (as-traded) daily time series (date, daily open, daily high, daily low, daily close, daily volume) of the global equity specified"
   ]
  },
  {
   "cell_type": "code",
   "execution_count": 4,
   "metadata": {},
   "outputs": [
    {
     "name": "stdout",
     "output_type": "stream",
     "text": [
      "(            1. open   2. high    3. low  4. close  5. volume\n",
      "date                                                        \n",
      "2022-03-15   178.24  180.6561  177.1500    180.19  1730555.0\n",
      "2022-03-16   180.66  181.1700  176.6800    179.29  1923250.0\n",
      "2022-03-17   178.88  181.1000  176.4600    181.03  1641899.0\n",
      "2022-03-18   180.48  180.4800  177.2750    180.31  3884618.0\n",
      "2022-03-21   181.45  183.4600  181.1100    182.54  1383927.0\n",
      "2022-03-22   183.87  184.4000  181.4550    182.70  1421647.0\n",
      "2022-03-23   182.52  183.8300  181.5300    181.62   937494.0\n",
      "2022-03-24   182.13  184.3600  181.2600    184.22   959283.0\n",
      "2022-03-25   184.19  187.7800  184.0400    187.75   851937.0\n",
      "2022-03-28   187.98  187.9800  185.5600    186.76   593645.0\n",
      "2022-03-29   187.60  187.6100  182.7404    183.81  1369874.0\n",
      "2022-03-30   183.76  185.5700  183.0750    185.55   959088.0\n",
      "2022-03-31   185.96  186.5200  182.7100    182.73  1178097.0\n",
      "2022-04-01   184.41  185.4500  182.5900    185.25  1079843.0\n",
      "2022-04-04   185.00  185.0000  181.5100    181.82  1026170.0\n",
      "2022-04-05   182.45  184.5900  180.9500    181.39   835424.0\n",
      "2022-04-06   180.31  183.9600  180.2200    182.58  1021514.0\n",
      "2022-04-07   182.25  182.8000  180.0800    182.09   874756.0\n",
      "2022-04-08   183.74  185.2200  182.1600    184.86  1120587.0\n",
      "2022-04-11   185.92  187.5900  185.2800    185.64  1219475.0\n",
      "2022-04-12   184.55  187.0200  184.4100    184.94  1116674.0\n",
      "2022-04-13   184.82  185.9100  181.7100    183.71   847338.0\n",
      "2022-04-14   183.79  185.0100  183.4500    184.24   992122.0\n",
      "2022-04-18   184.65  186.0800  184.2500    185.22  1351629.0\n",
      "2022-04-19   182.10  183.5194  174.5100    176.16  2750303.0\n",
      "2022-04-20   176.90  177.9900  174.1700    177.71  2235374.0\n",
      "2022-04-21   179.38  179.7700  175.9600    176.26  1846797.0\n",
      "2022-04-22   175.75  175.7500  172.9100    173.11  1541449.0\n",
      "2022-04-25   172.45  174.9400  170.6300    174.44  1502559.0\n",
      "2022-04-26   173.83  175.7920  172.5900    172.66  1779813.0\n",
      "...             ...       ...       ...       ...        ...\n",
      "2022-06-24   160.25  167.0850  160.2500    166.72  1296795.0\n",
      "2022-06-27   167.33  168.2300  166.3800    167.49   762132.0\n",
      "2022-06-28   168.43  170.6450  167.4200    167.47  1061739.0\n",
      "2022-06-29   167.98  168.4500  165.5300    165.80   719783.0\n",
      "2022-06-30   164.61  169.5000  163.6600    169.13  1336100.0\n",
      "2022-07-01   168.82  171.9600  167.4500    171.18  1033561.0\n",
      "2022-07-05   169.02  169.0200  163.9300    167.20  1028050.0\n",
      "2022-07-06   166.78  171.3500  166.7050    169.90  1366778.0\n",
      "2022-07-07   172.00  173.2100  169.4200    169.63  1155052.0\n",
      "2022-07-08   170.34  171.1200  168.9200    169.00   689869.0\n",
      "2022-07-11   168.13  170.4200  168.0900    168.52   883144.0\n",
      "2022-07-12   167.18  169.0900  164.7900    165.28  1032133.0\n",
      "2022-07-13   164.41  165.4800  162.7700    163.32  1022300.0\n",
      "2022-07-14   159.39  160.0250  155.3100    155.68  1654529.0\n",
      "2022-07-15   157.13  158.1200  155.5101    156.18  1561978.0\n",
      "2022-07-18   157.24  157.9050  154.5650    154.99  1098027.0\n",
      "2022-07-19   156.36  158.5800  155.8200    158.35  1288252.0\n",
      "2022-07-20   158.43  158.6300  156.3600    158.20  1271755.0\n",
      "2022-07-21   157.18  159.4000  152.1700    156.83  2080777.0\n",
      "2022-07-22   157.14  158.2099  155.4800    156.42   880992.0\n",
      "2022-07-25   158.49  160.5100  157.5700    159.98  1176360.0\n",
      "2022-07-26   159.76  160.9600  159.3300    160.86  1107482.0\n",
      "2022-07-27   161.32  161.6600  157.2600    158.96  1456404.0\n",
      "2022-07-28   158.65  158.8900  152.1100    155.74  1458797.0\n",
      "2022-07-29   156.05  158.8800  156.0500    158.70  1361114.0\n",
      "2022-08-01   157.93  158.1900  155.1500    156.27  1263324.0\n",
      "2022-08-02   156.62  159.6500  155.9900    156.71  1656940.0\n",
      "2022-08-03   157.44  158.5300  155.4500    158.12  1142599.0\n",
      "2022-08-04   157.62  159.5600  156.8900    157.70   968180.0\n",
      "2022-08-05   158.27  159.5450  157.9700    158.96   882311.0\n",
      "\n",
      "[100 rows x 5 columns], {'1. Information': 'Daily Prices (open, high, low, close) and Volumes', '2. Symbol': 'TRV', '3. Last Refreshed': '2022-08-05', '4. Output Size': 'Compact', '5. Time Zone': 'US/Eastern'})\n"
     ]
    }
   ],
   "source": [
    "trv_daily = app.get_daily('TRV')\n",
    "print(trv_daily) #last 100 daily data points for AAPL"
   ]
  },
  {
   "cell_type": "markdown",
   "metadata": {},
   "source": [
    "### WEEKLY\n",
    "\n",
    "This API returns weekly time series (last trading day of each week, weekly open, weekly high, weekly low, weekly close, weekly volume) of the global equity specified, covering 20+ years of historical data"
   ]
  },
  {
   "cell_type": "code",
   "execution_count": 8,
   "metadata": {},
   "outputs": [
    {
     "name": "stdout",
     "output_type": "stream",
     "text": [
      "            1. open   2. high   3. low  4. close   5. volume\n",
      "date                                                        \n",
      "2022-08-05   157.93  159.6500  155.150    158.96   5913354.0\n",
      "2022-07-29   158.49  161.6600  152.110    158.70   6560157.0\n",
      "2022-07-22   157.24  159.4000  152.170    156.42   6619803.0\n",
      "2022-07-15   168.13  170.4200  155.310    156.18   6154084.0\n",
      "2022-07-08   169.02  173.2100  163.930    169.00   4239749.0\n",
      "2022-07-01   167.33  171.9600  163.660    171.18   4913315.0\n",
      "2022-06-24   164.73  167.0850  158.350    166.72   4709656.0\n",
      "2022-06-17   167.12  171.1250  160.240    161.88   8296087.0\n",
      "2022-06-10   175.07  178.7300  168.080    169.30   4359238.0\n",
      "2022-06-03   177.11  179.9600  173.690    174.19   5043021.0\n",
      "2022-05-27   170.25  177.8500  168.960    177.83   5540880.0\n",
      "2022-05-20   173.00  177.6286  166.310    168.24   6724820.0\n",
      "2022-05-13   170.93  175.5700  170.440    172.78   7186692.0\n",
      "2022-05-06   171.47  175.5600  167.640    171.64   6748412.0\n",
      "2022-04-29   172.45  175.7920  170.630    171.06   7461434.0\n",
      "2022-04-22   184.65  186.0800  172.910    173.11   9725552.0\n",
      "2022-04-14   185.92  187.5900  181.710    184.24   4175609.0\n",
      "2022-04-08   185.00  185.2200  180.080    184.86   4878451.0\n",
      "2022-04-01   187.98  187.9800  182.590    185.25   5180547.0\n",
      "2022-03-25   181.45  187.7800  181.110    187.75   5554288.0\n",
      "2022-03-18   175.58  181.1700  175.280    180.31  11125887.0\n",
      "2022-03-11   171.81  175.9500  168.280    173.73   7101624.0\n",
      "2022-03-04   167.55  174.9000  166.610    173.40   7313935.0\n",
      "2022-02-25   170.62  173.4900  162.800    173.44   6818063.0\n",
      "2022-02-18   172.71  173.3900  168.800    170.63   6365551.0\n",
      "2022-02-11   171.69  174.5500  169.230    171.76   8526399.0\n",
      "2022-02-04   164.88  173.8250  163.730    171.90   7418201.0\n",
      "2022-01-28   162.00  171.4637  160.905    166.82  11033657.0\n",
      "2022-01-21   163.52  169.4900  160.070    162.61   8117480.0\n",
      "2022-01-14   167.62  168.3100  160.440    163.21   5281513.0\n",
      "...             ...       ...      ...       ...         ...\n",
      "2000-06-02    37.00   39.1900   36.940     39.19   3166800.0\n",
      "2000-05-26    36.63   38.7500   36.190     37.13   4939300.0\n",
      "2000-05-19    35.56   38.1300   35.500     36.38   5358400.0\n",
      "2000-05-12    33.69   35.5000   33.440     35.50   3216400.0\n",
      "2000-05-05    35.69   36.8800   32.750     33.69   3984600.0\n",
      "2000-04-28    30.88   36.3800   30.250     35.63   6974400.0\n",
      "2000-04-20    31.00   31.0000   29.310     30.69   3890700.0\n",
      "2000-04-14    32.00   33.2500   29.880     30.00   3641500.0\n",
      "2000-04-07    34.00   35.0000   31.630     31.88   5591300.0\n",
      "2000-03-31    29.25   34.3100   29.060     34.13   7715100.0\n",
      "2000-03-24    26.75   29.9400   26.060     29.50   4494000.0\n",
      "2000-03-17    22.75   27.7500   22.130     26.63   6274900.0\n",
      "2000-03-10    22.31   23.2500   21.310     23.00   4582300.0\n",
      "2000-03-03    23.19   23.6300   21.750     22.56   5415200.0\n",
      "2000-02-25    23.63   24.5000   22.250     22.88   3416100.0\n",
      "2000-02-18    24.25   25.1300   23.130     23.63   3515100.0\n",
      "2000-02-11    26.75   27.0000   23.750     24.38   7280600.0\n",
      "2000-02-04    29.81   30.1900   25.750     26.75   5933900.0\n",
      "2000-01-28    31.63   32.8100   29.310     30.00   3830900.0\n",
      "2000-01-21    33.75   33.7500   31.000     31.50   3877700.0\n",
      "2000-01-14    34.75   34.7500   32.750     34.00   2953200.0\n",
      "2000-01-07    33.25   34.7500   31.810     34.25   2821900.0\n",
      "1999-12-31    34.00   34.1900   33.000     33.69   1460300.0\n",
      "1999-12-23    32.75   33.9400   32.000     33.75   2369400.0\n",
      "1999-12-17    31.50   33.1300   31.130     33.06   3788400.0\n",
      "1999-12-10    31.88   31.8800   30.190     31.50   2281500.0\n",
      "1999-12-03    31.50   32.9400   29.750     31.75   3140300.0\n",
      "1999-11-26    32.50   33.0000   30.750     31.25   2133500.0\n",
      "1999-11-19    34.31   34.9400   32.630     32.75   2416300.0\n",
      "1999-11-12    36.00   36.2500   32.750     34.25   4499100.0\n",
      "\n",
      "[1187 rows x 5 columns]\n"
     ]
    }
   ],
   "source": [
    "import requests\n",
    "from alpha_vantage.timeseries import TimeSeries\n",
    "\n",
    "app = TimeSeries('TQDRA851QNSBS3AJ',output_format='pandas')  # instantiate the TimeSeries class to inherit all of its functions\n",
    "\n",
    "data,meta_data = app.get_weekly(symbol='TRV')\n",
    "print(data.sort_values(\"date\",ascending=False))"
   ]
  },
  {
   "cell_type": "code",
   "execution_count": 14,
   "metadata": {},
   "outputs": [
    {
     "name": "stdout",
     "output_type": "stream",
     "text": [
      "{'1. open': '158.2700',\n",
      " '2. high': '159.5450',\n",
      " '3. low': '157.9700',\n",
      " '4. close': '158.9600',\n",
      " '5. volume': '882311'}\n",
      "Open -  158.2700\n",
      "High -  159.5450\n",
      "Low -  157.9700\n",
      "Close -  158.9600\n"
     ]
    }
   ],
   "source": [
    "#### Stock Values for any day\n",
    "from pprint import pprint \n",
    "\n",
    "API_KEY ='TQDRA851QNSBS3AJ'\n",
    "r = requests.get('https://www.alphavantage.co/query?function=TIME_SERIES_DAILY&symbol=TRV&apikey=' + API_KEY)\n",
    "if (r.status_code == 200):\n",
    "    result = r.json()\n",
    "    dataForAllDays = result['Time Series (Daily)']\n",
    "    dataForSingleDate = dataForAllDays['2022-08-05']\n",
    "    pprint(dataForSingleDate)\n",
    "    print (\"Open - \",dataForSingleDate['1. open'])\n",
    "    print (\"High - \",dataForSingleDate['2. high'])\n",
    "    print (\"Low - \",dataForSingleDate['3. low'])\n",
    "    print (\"Close - \",dataForSingleDate['4. close'])"
   ]
  },
  {
   "cell_type": "code",
   "execution_count": 34,
   "metadata": {},
   "outputs": [
    {
     "name": "stdout",
     "output_type": "stream",
     "text": [
      "            1. open   2. high    3. low  4. close  5. volume\n",
      "date                                                        \n",
      "2022-08-05   158.27  159.5450  157.9700    158.96   882311.0\n",
      "2022-08-04   157.62  159.5600  156.8900    157.70   968180.0\n",
      "2022-08-03   157.44  158.5300  155.4500    158.12  1142599.0\n",
      "2022-08-02   156.62  159.6500  155.9900    156.71  1656940.0\n",
      "2022-08-01   157.93  158.1900  155.1500    156.27  1263324.0\n",
      "2022-07-29   156.05  158.8800  156.0500    158.70  1361114.0\n",
      "2022-07-28   158.65  158.8900  152.1100    155.74  1458797.0\n",
      "2022-07-27   161.32  161.6600  157.2600    158.96  1456404.0\n",
      "2022-07-26   159.76  160.9600  159.3300    160.86  1107482.0\n",
      "2022-07-25   158.49  160.5100  157.5700    159.98  1176360.0\n",
      "2022-07-22   157.14  158.2099  155.4800    156.42   880992.0\n",
      "2022-07-21   157.18  159.4000  152.1700    156.83  2080777.0\n",
      "2022-07-20   158.43  158.6300  156.3600    158.20  1271755.0\n",
      "2022-07-19   156.36  158.5800  155.8200    158.35  1288252.0\n",
      "2022-07-18   157.24  157.9050  154.5650    154.99  1098027.0\n",
      "2022-07-15   157.13  158.1200  155.5101    156.18  1561978.0\n",
      "2022-07-14   159.39  160.0250  155.3100    155.68  1654529.0\n",
      "2022-07-13   164.41  165.4800  162.7700    163.32  1022300.0\n",
      "2022-07-12   167.18  169.0900  164.7900    165.28  1032133.0\n",
      "2022-07-11   168.13  170.4200  168.0900    168.52   883144.0\n",
      "2022-07-08   170.34  171.1200  168.9200    169.00   689869.0\n",
      "2022-07-07   172.00  173.2100  169.4200    169.63  1155052.0\n",
      "2022-07-06   166.78  171.3500  166.7050    169.90  1366778.0\n",
      "2022-07-05   169.02  169.0200  163.9300    167.20  1028050.0\n",
      "2022-07-01   168.82  171.9600  167.4500    171.18  1033561.0\n",
      "2022-06-30   164.61  169.5000  163.6600    169.13  1336100.0\n",
      "2022-06-29   167.98  168.4500  165.5300    165.80   719783.0\n",
      "2022-06-28   168.43  170.6450  167.4200    167.47  1061739.0\n",
      "2022-06-27   167.33  168.2300  166.3800    167.49   762132.0\n",
      "2022-06-24   160.25  167.0850  160.2500    166.72  1296795.0\n",
      "...             ...       ...       ...       ...        ...\n",
      "1999-12-13    31.50   32.1900   31.1300     31.73   734400.0\n",
      "1999-12-10    30.69   31.7500   30.6900     31.50   363000.0\n",
      "1999-12-09    30.81   30.8800   30.1900     30.69   501600.0\n",
      "1999-12-08    30.50   31.1900   30.3800     30.75   538800.0\n",
      "1999-12-07    30.38   31.1900   30.3800     30.50   454200.0\n",
      "1999-12-06    31.88   31.8800   30.7500     31.00   423900.0\n",
      "1999-12-03    32.00   32.9400   31.6300     31.75   727500.0\n",
      "1999-12-02    31.00   31.5000   31.0000     31.50   482300.0\n",
      "1999-12-01    30.44   31.2500   30.2500     30.94   588300.0\n",
      "1999-11-30    30.00   31.0000   30.0000     30.19   918400.0\n",
      "1999-11-29    31.50   31.5000   29.7500     30.19   423800.0\n",
      "1999-11-26    30.94   31.4400   30.7500     31.25   224100.0\n",
      "1999-11-24    31.25   31.3100   30.7500     30.88   366900.0\n",
      "1999-11-23    31.63   31.8100   30.7500     31.13   653700.0\n",
      "1999-11-22    32.50   33.0000   31.1300     31.38   888800.0\n",
      "1999-11-19    32.94   33.3100   32.6300     32.75   323600.0\n",
      "1999-11-18    33.69   33.8800   32.7500     32.88   483900.0\n",
      "1999-11-17    34.38   34.4400   33.5000     33.69   687000.0\n",
      "1999-11-16    33.88   34.9400   33.8100     34.75   529900.0\n",
      "1999-11-15    34.31   34.6300   33.5600     33.63   391900.0\n",
      "1999-11-12    33.56   34.4400   33.3800     34.25   784700.0\n",
      "1999-11-11    33.81   33.8800   32.7500     33.56   432400.0\n",
      "1999-11-10    34.25   34.9400   33.3100     34.31  1155000.0\n",
      "1999-11-09    35.75   35.8100   34.3800     35.06   646700.0\n",
      "1999-11-08    36.00   36.2500   35.7500     35.81  1480300.0\n",
      "1999-11-05    35.00   36.2500   34.7500     36.06  2723000.0\n",
      "1999-11-04    31.94   33.6300   31.7500     33.06   821200.0\n",
      "1999-11-03    33.00   33.0000   31.6300     32.00   976200.0\n",
      "1999-11-02    31.50   33.0000   31.3800     32.69   883800.0\n",
      "1999-11-01    32.00   32.2500   31.2500     31.63   968200.0\n",
      "\n",
      "[5728 rows x 5 columns]\n"
     ]
    }
   ],
   "source": [
    "import matplotlib.pyplot as plt\n",
    "import numpy as np\n",
    "\n",
    "trv_daily,meta = app.get_daily('TRV',outputsize ='full')                     \n",
    "\n",
    "\n",
    "print(trv_daily.sort_values(\"date\",ascending=False))\n"
   ]
  },
  {
   "cell_type": "code",
   "execution_count": 21,
   "metadata": {},
   "outputs": [
    {
     "name": "stdout",
     "output_type": "stream",
     "text": [
      "<class 'pandas.core.frame.DataFrame'>\n",
      "DatetimeIndex: 5728 entries, 1999-11-01 to 2022-08-05\n",
      "Data columns (total 5 columns):\n",
      "1. open      5728 non-null float64\n",
      "2. high      5728 non-null float64\n",
      "3. low       5728 non-null float64\n",
      "4. close     5728 non-null float64\n",
      "5. volume    5728 non-null float64\n",
      "dtypes: float64(5)\n",
      "memory usage: 268.5 KB\n"
     ]
    }
   ],
   "source": [
    "trv_daily.info()"
   ]
  },
  {
   "cell_type": "code",
   "execution_count": 22,
   "metadata": {},
   "outputs": [],
   "source": [
    "# Increase size of plot in jupyter\n",
    "\n",
    "plt.rcParams[\"figure.figsize\"] = (8,5.5)"
   ]
  },
  {
   "cell_type": "code",
   "execution_count": 24,
   "metadata": {},
   "outputs": [
    {
     "data": {
      "image/png": "[encoded data removed]",
      "text/plain": [
       "<Figure size 576x396 with 1 Axes>"
      ]
     },
     "metadata": {
      "needs_background": "light"
     },
     "output_type": "display_data"
    }
   ],
   "source": [
    "plt.plot(trv_daily)\n",
    "plt.show()"
   ]
  },
  {
   "cell_type": "code",
   "execution_count": 33,
   "metadata": {},
   "outputs": [
    {
     "data": {
      "image/png": "[encoded data removed]",
      "text/plain": [
       "<Figure size 576x396 with 1 Axes>"
      ]
     },
     "metadata": {
      "needs_background": "light"
     },
     "output_type": "display_data"
    }
   ],
   "source": [
    "#print(trv_daily['4. close'])\n",
    "plt.plot(trv_daily['4. close'])\n",
    "plt.show()"
   ]
  },
  {
   "cell_type": "code",
   "execution_count": null,
   "metadata": {},
   "outputs": [],
   "source": []
  }
 ],
 "metadata": {
  "kernelspec": {
   "display_name": "Python 3",
   "language": "python",
   "name": "python3"
  },
  "language_info": {
   "codemirror_mode": {
    "name": "ipython",
    "version": 3
   },
   "file_extension": ".py",
   "mimetype": "text/x-python",
   "name": "python",
   "nbconvert_exporter": "python",
   "pygments_lexer": "ipython3",
   "version": "3.7.3"
  }
 },
 "nbformat": 4,
 "nbformat_minor": 2
}
